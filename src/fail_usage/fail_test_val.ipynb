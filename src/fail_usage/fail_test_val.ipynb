{
 "cells": [
  {
   "cell_type": "code",
   "execution_count": 1,
   "metadata": {},
   "outputs": [
    {
     "name": "stdout",
     "output_type": "stream",
     "text": [
      "Ultralytics YOLOv8.2.6 🚀 Python-3.8.10 torch-2.3.0+cu121 CUDA:0 (NVIDIA GeForce RTX 2070 SUPER, 8192MiB)\n",
      "YOLOv8n-cls summary (fused): 73 layers, 1438723 parameters, 0 gradients, 3.3 GFLOPs\n",
      "\u001b[34m\u001b[1mtrain:\u001b[0m /root/aifr/bottle-classification-YOLOv8/data/train... found 23 images in 3 classes ✅ \n",
      "\u001b[34m\u001b[1mval:\u001b[0m /root/aifr/bottle-classification-YOLOv8/data/val... found 6 images in 3 classes ✅ \n",
      "\u001b[34m\u001b[1mtest:\u001b[0m /root/aifr/bottle-classification-YOLOv8/data/test... found 240 images in 3 classes ✅ \n"
     ]
    },
    {
     "name": "stderr",
     "output_type": "stream",
     "text": [
      "\u001b[34m\u001b[1mtest: \u001b[0mScanning /root/aifr/bottle-classification-YOLOv8/data/test... 240 images, 0 corrupt: 100%|██████████| 240/240 [00:00<?, ?it/s]\n",
      "               classes   top1_acc   top5_acc: 100%|██████████| 15/15 [00:03<00:00,  3.87it/s]\n"
     ]
    },
    {
     "name": "stdout",
     "output_type": "stream",
     "text": [
      "                   all       0.55          1\n",
      "Speed: 2.3ms preprocess, 3.1ms inference, 0.0ms loss, 0.0ms postprocess per image\n",
      "Results saved to \u001b[1m/root/aifr/bottle-classification-YOLOv8/src/runs/classify/test_results\u001b[0m\n"
     ]
    },
    {
     "data": {
      "text/plain": [
       "1.0"
      ]
     },
     "execution_count": 1,
     "metadata": {},
     "output_type": "execute_result"
    }
   ],
   "source": [
    "from pathlib import Path\n",
    "from torch.utils.data import DataLoader\n",
    "from torchvision import datasets, transforms\n",
    "from ultralytics.models.yolo.classify.val import ClassificationValidator\n",
    "\n",
    "\n",
    "args = dict(model='/root/aifr/bottle-classification-YOLOv8/src/runs/classify/train/weights/best.pt',\n",
    "            data='/root/aifr/bottle-classification-YOLOv8/data',\n",
    "            split='test')\n",
    "test_results_dir = Path('/root/aifr/bottle-classification-YOLOv8/src/runs/classify/test_results')\n",
    "validator = ClassificationValidator(save_dir=test_results_dir, args=args)\n",
    "\n",
    "validator()\n",
    "metrics = validator.metrics\n",
    "metrics.top1   # top1 accuracy\n",
    "metrics.top5   # top5 accuracy\n"
   ]
  },
  {
   "cell_type": "code",
   "execution_count": null,
   "metadata": {},
   "outputs": [],
   "source": []
  }
 ],
 "metadata": {
  "kernelspec": {
   "display_name": "Python 3",
   "language": "python",
   "name": "python3"
  },
  "language_info": {
   "codemirror_mode": {
    "name": "ipython",
    "version": 3
   },
   "file_extension": ".py",
   "mimetype": "text/x-python",
   "name": "python",
   "nbconvert_exporter": "python",
   "pygments_lexer": "ipython3",
   "version": "3.8.10"
  }
 },
 "nbformat": 4,
 "nbformat_minor": 2
}
