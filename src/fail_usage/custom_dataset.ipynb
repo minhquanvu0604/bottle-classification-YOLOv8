{
 "cells": [
  {
   "cell_type": "markdown",
   "metadata": {},
   "source": [
    "## Prepare Dataset"
   ]
  },
  {
   "cell_type": "code",
   "execution_count": 2,
   "metadata": {},
   "outputs": [
    {
     "name": "stderr",
     "output_type": "stream",
     "text": [
      "\u001b[34m\u001b[1mwhat: \u001b[0mScanning ../data... 23 images, 0 corrupt: 100%|██████████| 23/23 [00:00<?, ?it/s]"
     ]
    },
    {
     "name": "stdout",
     "output_type": "stream",
     "text": [
      "\u001b[34m\u001b[1mwdywtd: \u001b[0mWARNING ⚠️ ../data/cro/cro_001.jpg: corrupt JPEG restored and saved\n",
      "\u001b[34m\u001b[1mwdywtd: \u001b[0mWARNING ⚠️ ../data/cro/cro_002.jpg: corrupt JPEG restored and saved\n",
      "\u001b[34m\u001b[1mwdywtd: \u001b[0mWARNING ⚠️ ../data/cro/cro_003.jpg: corrupt JPEG restored and saved\n",
      "\u001b[34m\u001b[1mwdywtd: \u001b[0mWARNING ⚠️ ../data/cro/cro_004.jpg: corrupt JPEG restored and saved\n",
      "\u001b[34m\u001b[1mwdywtd: \u001b[0mWARNING ⚠️ ../data/cro/cro_005.jpg: corrupt JPEG restored and saved\n",
      "\u001b[34m\u001b[1mwdywtd: \u001b[0mWARNING ⚠️ ../data/cro/cro_006.jpg: corrupt JPEG restored and saved\n",
      "\u001b[34m\u001b[1mwdywtd: \u001b[0mWARNING ⚠️ ../data/cro/cro_007.jpg: corrupt JPEG restored and saved\n",
      "\u001b[34m\u001b[1mwdywtd: \u001b[0mWARNING ⚠️ ../data/cro/cro_008.jpg: corrupt JPEG restored and saved\n",
      "\u001b[34m\u001b[1mwdywtd: \u001b[0mWARNING ⚠️ ../data/hen/hen_001.jpg: corrupt JPEG restored and saved\n",
      "\u001b[34m\u001b[1mwdywtd: \u001b[0mWARNING ⚠️ ../data/hen/hen_002.jpg: corrupt JPEG restored and saved\n",
      "\u001b[34m\u001b[1mwdywtd: \u001b[0mWARNING ⚠️ ../data/hen/hen_003.jpg: corrupt JPEG restored and saved\n",
      "\u001b[34m\u001b[1mwdywtd: \u001b[0mWARNING ⚠️ ../data/hen/hen_004.jpg: corrupt JPEG restored and saved\n",
      "\u001b[34m\u001b[1mwdywtd: \u001b[0mWARNING ⚠️ ../data/hen/hen_005.jpg: corrupt JPEG restored and saved\n",
      "\u001b[34m\u001b[1mwdywtd: \u001b[0mWARNING ⚠️ ../data/hen/hen_006.jpg: corrupt JPEG restored and saved\n",
      "\u001b[34m\u001b[1mwdywtd: \u001b[0mWARNING ⚠️ ../data/hen/hen_007.jpg: corrupt JPEG restored and saved\n",
      "\u001b[34m\u001b[1mwdywtd: \u001b[0mWARNING ⚠️ ../data/pin/pin_001.jpg: corrupt JPEG restored and saved\n",
      "\u001b[34m\u001b[1mwdywtd: \u001b[0mWARNING ⚠️ ../data/pin/pin_002.jpg: corrupt JPEG restored and saved\n",
      "\u001b[34m\u001b[1mwdywtd: \u001b[0mWARNING ⚠️ ../data/pin/pin_003.jpg: corrupt JPEG restored and saved\n",
      "\u001b[34m\u001b[1mwdywtd: \u001b[0mWARNING ⚠️ ../data/pin/pin_004.jpg: corrupt JPEG restored and saved\n",
      "\u001b[34m\u001b[1mwdywtd: \u001b[0mWARNING ⚠️ ../data/pin/pin_005.jpg: corrupt JPEG restored and saved\n",
      "\u001b[34m\u001b[1mwdywtd: \u001b[0mWARNING ⚠️ ../data/pin/pin_006.jpg: corrupt JPEG restored and saved\n",
      "\u001b[34m\u001b[1mwdywtd: \u001b[0mWARNING ⚠️ ../data/pin/pin_007.jpg: corrupt JPEG restored and saved\n",
      "\u001b[34m\u001b[1mwdywtd: \u001b[0mWARNING ⚠️ ../data/pin/pin_008.jpg: corrupt JPEG restored and saved\n"
     ]
    },
    {
     "name": "stderr",
     "output_type": "stream",
     "text": [
      "\n"
     ]
    }
   ],
   "source": [
    "from ultralytics.data.dataset import ClassificationDataset\n",
    "from types import SimpleNamespace\n",
    "from ultralytics.utils import IterableSimpleNamespace\n",
    "from ultralytics.utils import DEFAULT_CFG\n",
    "\n",
    "args = DEFAULT_CFG\n",
    "dataset_path = '../data'\n",
    "dataset = ClassificationDataset(dataset_path, args=args, augment=True, prefix='what')"
   ]
  },
  {
   "cell_type": "code",
   "execution_count": null,
   "metadata": {},
   "outputs": [],
   "source": [
    "from ultralytics import YOLO\n",
    "\n",
    "\n",
    "model = YOLO('yolov8n-cls.pt', task='classify', verbose=True)\n",
    "\n",
    "\n",
    "\n",
    "\n",
    "\n",
    "model.train(trainer=custom_trainer)\n"
   ]
  }
 ],
 "metadata": {
  "kernelspec": {
   "display_name": "Python 3",
   "language": "python",
   "name": "python3"
  },
  "language_info": {
   "codemirror_mode": {
    "name": "ipython",
    "version": 3
   },
   "file_extension": ".py",
   "mimetype": "text/x-python",
   "name": "python",
   "nbconvert_exporter": "python",
   "pygments_lexer": "ipython3",
   "version": "3.8.10"
  }
 },
 "nbformat": 4,
 "nbformat_minor": 2
}
