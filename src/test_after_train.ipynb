{
 "cells": [
  {
   "cell_type": "markdown",
   "metadata": {},
   "source": [
    "### Attempt testing after completing model training\n"
   ]
  },
  {
   "cell_type": "code",
   "execution_count": 1,
   "metadata": {},
   "outputs": [
    {
     "name": "stdout",
     "output_type": "stream",
     "text": [
      "Ultralytics YOLOv8.2.6 🚀 Python-3.8.10 torch-2.3.0+cu121 CUDA:0 (NVIDIA GeForce RTX 2070 SUPER, 8192MiB)\n",
      "YOLOv8n-cls summary (fused): 73 layers, 1438723 parameters, 0 gradients, 3.3 GFLOPs\n",
      "\u001b[34m\u001b[1mtrain:\u001b[0m /root/aifr/bottle-classification-YOLOv8/data/train... found 23 images in 3 classes ✅ \n",
      "\u001b[34m\u001b[1mval:\u001b[0m /root/aifr/bottle-classification-YOLOv8/data/val... found 6 images in 3 classes ✅ \n",
      "\u001b[34m\u001b[1mtest:\u001b[0m /root/aifr/bottle-classification-YOLOv8/data/test... found 240 images in 3 classes ✅ \n"
     ]
    },
    {
     "name": "stderr",
     "output_type": "stream",
     "text": [
      "\u001b[34m\u001b[1mtest: \u001b[0mScanning /root/aifr/bottle-classification-YOLOv8/data/test... 240 images, 0 corrupt: 100%|██████████| 240/240 [00:00<?, ?it/s]\n",
      "               classes   top1_acc   top5_acc: 100%|██████████| 15/15 [00:01<00:00, 14.78it/s]\n"
     ]
    },
    {
     "name": "stdout",
     "output_type": "stream",
     "text": [
      "                   all      0.933          1\n",
      "Speed: 0.4ms preprocess, 1.3ms inference, 0.0ms loss, 0.0ms postprocess per image\n",
      "Results saved to \u001b[1mruns/classify/val3\u001b[0m\n"
     ]
    },
    {
     "data": {
      "text/plain": [
       "ultralytics.utils.metrics.ClassifyMetrics object with attributes:\n",
       "\n",
       "confusion_matrix: <ultralytics.utils.metrics.ConfusionMatrix object at 0x7f39995f9fa0>\n",
       "curves: []\n",
       "curves_results: []\n",
       "fitness: 0.9666666686534882\n",
       "keys: ['metrics/accuracy_top1', 'metrics/accuracy_top5']\n",
       "results_dict: {'metrics/accuracy_top1': 0.9333333373069763, 'metrics/accuracy_top5': 1.0, 'fitness': 0.9666666686534882}\n",
       "save_dir: PosixPath('runs/classify/val3')\n",
       "speed: {'preprocess': 0.3688345352808634, 'inference': 1.293934384981791, 'loss': 0.001288453737894694, 'postprocess': 0.001203020413716634}\n",
       "task: 'classify'\n",
       "top1: 0.9333333373069763\n",
       "top5: 1.0"
      ]
     },
     "execution_count": 1,
     "metadata": {},
     "output_type": "execute_result"
    }
   ],
   "source": [
    "from pathlib import Path\n",
    "from torch.utils.data import DataLoader\n",
    "from torchvision import datasets, transforms\n",
    "from ultralytics.models.yolo.classify.val import ClassificationValidator\n",
    "\n",
    "from ultralytics import YOLO\n",
    "\n",
    "# Define the path to the test dataset\n",
    "test_dir = '/root/aifr/bottle-classification-YOLOv8/data/test'\n",
    "\n",
    "model = YOLO('/root/aifr/bottle-classification-YOLOv8/src/runs/classify/train/weights/best.pt')\n",
    "\n",
    "args = {'split': 'test'}\n",
    "model.val(**args)"
   ]
  },
  {
   "cell_type": "code",
   "execution_count": null,
   "metadata": {},
   "outputs": [],
   "source": []
  }
 ],
 "metadata": {
  "kernelspec": {
   "display_name": "Python 3",
   "language": "python",
   "name": "python3"
  },
  "language_info": {
   "codemirror_mode": {
    "name": "ipython",
    "version": 3
   },
   "file_extension": ".py",
   "mimetype": "text/x-python",
   "name": "python",
   "nbconvert_exporter": "python",
   "pygments_lexer": "ipython3",
   "version": "3.8.10"
  }
 },
 "nbformat": 4,
 "nbformat_minor": 2
}
