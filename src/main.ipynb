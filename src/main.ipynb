{
 "cells": [
  {
   "cell_type": "code",
   "execution_count": null,
   "metadata": {},
   "outputs": [],
   "source": [
    "from ultralytics.models.yolo.classify.train import ClassificationTrainer\n",
    "\n",
    "args = dict(model='yolov8n-cls.pt', data='imagenet10', epochs=3)\n",
    "trainer = ClassificationTrainer(overrides=args)\n",
    "trainer.train()"
   ]
  },
  {
   "cell_type": "code",
   "execution_count": null,
   "metadata": {},
   "outputs": [],
   "source": [
    "class Config:\n",
    "    def __init__(self):\n",
    "        self.imgsz = 224  # Example image size\n",
    "        self.fraction = 1.0  # Use the whole dataset\n",
    "        self.scale = 0.08\n",
    "        self.fliplr = True\n",
    "        self.flipud = False\n",
    "        self.cache = 'ram'  # Options: 'ram', 'disk', None\n",
    "        self.auto_augment = None\n",
    "        self.hsv_h = 0.5\n",
    "        self.hsv_s = 0.5\n",
    "        self.hsv_v = 0.5\n",
    "        self.crop_fraction = 1.0\n",
    "args = Config()"
   ]
  },
  {
   "cell_type": "code",
   "execution_count": null,
   "metadata": {},
   "outputs": [],
   "source": []
  },
  {
   "cell_type": "code",
   "execution_count": null,
   "metadata": {},
   "outputs": [],
   "source": [
    "from ultralytics import YOLO\n",
    "from ultralytics.data.dataset import ClassificationDataset\n",
    "\n",
    "\n",
    "model = YOLO('yolov8n-cls.pt', task='classify', verbose=True)\n",
    "\n",
    "# Dataset \n",
    "dataset_path = '../data'\n",
    "dataset = ClassificationDataset(dataset_path, args=args, augment=True, prefix='wdywtd')\n",
    "\n",
    "\n",
    "\n",
    "model.train(trainer=custom_trainer)\n"
   ]
  }
 ],
 "metadata": {
  "kernelspec": {
   "display_name": "Python 3",
   "language": "python",
   "name": "python3"
  },
  "language_info": {
   "codemirror_mode": {
    "name": "ipython",
    "version": 3
   },
   "file_extension": ".py",
   "mimetype": "text/x-python",
   "name": "python",
   "nbconvert_exporter": "python",
   "pygments_lexer": "ipython3",
   "version": "3.8.10"
  }
 },
 "nbformat": 4,
 "nbformat_minor": 2
}
