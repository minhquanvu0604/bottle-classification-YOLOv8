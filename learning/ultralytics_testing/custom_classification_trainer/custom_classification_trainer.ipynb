{
 "cells": [
  {
   "cell_type": "code",
   "execution_count": 1,
   "metadata": {},
   "outputs": [
    {
     "name": "stdout",
     "output_type": "stream",
     "text": [
      "Ultralytics YOLOv8.2.6 🚀 Python-3.8.10 torch-2.3.0+cu121 CUDA:0 (NVIDIA GeForce RTX 2070 SUPER, 8192MiB)\n",
      "\u001b[34m\u001b[1mengine/trainer: \u001b[0mtask=classify, mode=train, model=yolov8n-cls.pt, data=cifar100, epochs=10, time=None, patience=100, batch=16, imgsz=224, save=True, save_period=-1, cache=False, device=None, workers=8, project=/root/aifr/bottle-classification-YOLOv8/learning/ultralytics_testing/custom_classification_trainer, name=testing, exist_ok=False, pretrained=True, optimizer=auto, verbose=True, seed=0, deterministic=True, single_cls=False, rect=False, cos_lr=False, close_mosaic=10, resume=False, amp=True, fraction=1.0, profile=False, freeze=None, multi_scale=False, overlap_mask=True, mask_ratio=4, dropout=0.0, val=True, split=val, save_json=False, save_hybrid=False, conf=None, iou=0.7, max_det=300, half=False, dnn=False, plots=True, source=None, vid_stride=1, stream_buffer=False, visualize=False, augment=False, agnostic_nms=False, classes=None, retina_masks=False, embed=None, show=False, save_frames=False, save_txt=False, save_conf=False, save_crop=False, show_labels=True, show_conf=True, show_boxes=True, line_width=None, format=torchscript, keras=False, optimize=False, int8=False, dynamic=False, simplify=False, opset=None, workspace=4, nms=False, lr0=0.01, lrf=0.01, momentum=0.937, weight_decay=0.0005, warmup_epochs=3.0, warmup_momentum=0.8, warmup_bias_lr=0.1, box=7.5, cls=0.5, dfl=1.5, pose=12.0, kobj=1.0, label_smoothing=0.0, nbs=64, hsv_h=0.015, hsv_s=0.7, hsv_v=0.4, degrees=0.0, translate=0.1, scale=0.5, shear=0.0, perspective=0.0, flipud=0.0, fliplr=0.5, bgr=0.0, mosaic=1.0, mixup=0.0, copy_paste=0.0, auto_augment=randaugment, erasing=0.4, crop_fraction=1.0, cfg=None, tracker=botsort.yaml, save_dir=/root/aifr/bottle-classification-YOLOv8/learning/ultralytics_testing/custom_classification_trainer/testing\n",
      "\n",
      "Dataset not found ⚠️, missing path /root/aifr/bottle-classification-YOLOv8/src/datasets/cifar100, attempting download...\n",
      "Downloading https://github.com/ultralytics/yolov5/releases/download/v1.0/cifar100.zip to '/root/aifr/bottle-classification-YOLOv8/src/datasets/cifar100.zip'...\n"
     ]
    },
    {
     "name": "stderr",
     "output_type": "stream",
     "text": [
      "100%|██████████| 174M/174M [00:51<00:00, 3.57MB/s] \n",
      "Unzipping /root/aifr/bottle-classification-YOLOv8/src/datasets/cifar100.zip to /root/aifr/bottle-classification-YOLOv8/src/datasets/cifar100...: 100%|██████████| 60203/60203 [05:05<00:00, 197.25file/s]\n"
     ]
    },
    {
     "name": "stdout",
     "output_type": "stream",
     "text": [
      "Dataset download success ✅ (358.5s), saved to \u001b[1m/root/aifr/bottle-classification-YOLOv8/src/datasets/cifar100\u001b[0m\n",
      "\n",
      "\u001b[34m\u001b[1mtrain:\u001b[0m /root/aifr/bottle-classification-YOLOv8/src/datasets/cifar100/train... found 50000 images in 100 classes ✅ \n",
      "\u001b[34m\u001b[1mval:\u001b[0m None...\n",
      "\u001b[34m\u001b[1mtest:\u001b[0m /root/aifr/bottle-classification-YOLOv8/src/datasets/cifar100/test... found 10000 images in 100 classes ✅ \n",
      "Downloading https://github.com/ultralytics/assets/releases/download/v8.2.0/yolov8n-cls.pt to 'yolov8n-cls.pt'...\n"
     ]
    },
    {
     "name": "stderr",
     "output_type": "stream",
     "text": [
      "100%|██████████| 5.30M/5.30M [00:04<00:00, 1.24MB/s]\n"
     ]
    },
    {
     "name": "stdout",
     "output_type": "stream",
     "text": [
      "\u001b[34m\u001b[1mAMP: \u001b[0mrunning Automatic Mixed Precision (AMP) checks with YOLOv8n...\n",
      "Downloading https://github.com/ultralytics/assets/releases/download/v8.2.0/yolov8n.pt to 'yolov8n.pt'...\n"
     ]
    },
    {
     "name": "stderr",
     "output_type": "stream",
     "text": [
      "100%|██████████| 6.23M/6.23M [00:01<00:00, 3.48MB/s]\n",
      "/usr/local/lib/python3.8/dist-packages/torch/nn/modules/conv.py:456: UserWarning: Plan failed with a cudnnException: CUDNN_BACKEND_EXECUTION_PLAN_DESCRIPTOR: cudnnFinalize Descriptor Failed cudnn_status: CUDNN_STATUS_NOT_SUPPORTED (Triggered internally at ../aten/src/ATen/native/cudnn/Conv_v8.cpp:919.)\n",
      "  return F.conv2d(input, weight, bias, self.stride,\n"
     ]
    },
    {
     "name": "stdout",
     "output_type": "stream",
     "text": [
      "\u001b[34m\u001b[1mAMP: \u001b[0mchecks passed ✅\n"
     ]
    },
    {
     "name": "stderr",
     "output_type": "stream",
     "text": [
      "\u001b[34m\u001b[1mtrain: \u001b[0mScanning /root/aifr/bottle-classification-YOLOv8/src/datasets/cifar100/train... 50000 images, 0 corrupt: 100%|██████████| 50000/50000 [00:32<00:00, 1545.23it/s]\n"
     ]
    },
    {
     "name": "stdout",
     "output_type": "stream",
     "text": [
      "\u001b[34m\u001b[1mtrain: \u001b[0mNew cache created: /root/aifr/bottle-classification-YOLOv8/src/datasets/cifar100/train.cache\n"
     ]
    },
    {
     "name": "stderr",
     "output_type": "stream",
     "text": [
      "\u001b[34m\u001b[1mval: \u001b[0mScanning /root/aifr/bottle-classification-YOLOv8/src/datasets/cifar100/test... 10000 images, 0 corrupt: 100%|██████████| 10000/10000 [00:06<00:00, 1510.88it/s]\n"
     ]
    },
    {
     "name": "stdout",
     "output_type": "stream",
     "text": [
      "\u001b[34m\u001b[1mval: \u001b[0mNew cache created: /root/aifr/bottle-classification-YOLOv8/src/datasets/cifar100/test.cache\n",
      "\u001b[34m\u001b[1moptimizer:\u001b[0m 'optimizer=auto' found, ignoring 'lr0=0.01' and 'momentum=0.937' and determining best 'optimizer', 'lr0' and 'momentum' automatically... \n",
      "\u001b[34m\u001b[1moptimizer:\u001b[0m AdamW(lr=0.000714, momentum=0.9) with parameter groups 26 weight(decay=0.0), 27 weight(decay=0.0005), 27 bias(decay=0.0)\n",
      "Image sizes 224 train, 224 val\n",
      "Using 8 dataloader workers\n",
      "Logging results to \u001b[1m/root/aifr/bottle-classification-YOLOv8/learning/ultralytics_testing/custom_classification_trainer/testing\u001b[0m\n",
      "Starting training for 10 epochs...\n",
      "\n",
      "      Epoch    GPU_mem       loss  Instances       Size\n"
     ]
    },
    {
     "name": "stderr",
     "output_type": "stream",
     "text": [
      "       1/10     0.409G      3.161         16        224: 100%|██████████| 3125/3125 [02:37<00:00, 19.79it/s]\n",
      "               classes   top1_acc   top5_acc: 100%|██████████| 313/313 [00:16<00:00, 19.39it/s]"
     ]
    },
    {
     "name": "stdout",
     "output_type": "stream",
     "text": [
      "                   all      0.576      0.873\n"
     ]
    },
    {
     "name": "stderr",
     "output_type": "stream",
     "text": [
      "\n"
     ]
    },
    {
     "name": "stdout",
     "output_type": "stream",
     "text": [
      "\n",
      "      Epoch    GPU_mem       loss  Instances       Size\n"
     ]
    },
    {
     "name": "stderr",
     "output_type": "stream",
     "text": [
      "       2/10     0.377G      1.838         16        224: 100%|██████████| 3125/3125 [02:16<00:00, 22.97it/s]\n",
      "               classes   top1_acc   top5_acc: 100%|██████████| 313/313 [00:13<00:00, 23.57it/s]"
     ]
    },
    {
     "name": "stdout",
     "output_type": "stream",
     "text": [
      "                   all      0.661      0.916\n"
     ]
    },
    {
     "name": "stderr",
     "output_type": "stream",
     "text": [
      "\n"
     ]
    },
    {
     "name": "stdout",
     "output_type": "stream",
     "text": [
      "\n",
      "      Epoch    GPU_mem       loss  Instances       Size\n"
     ]
    },
    {
     "name": "stderr",
     "output_type": "stream",
     "text": [
      "       3/10     0.377G      1.586         16        224: 100%|██████████| 3125/3125 [02:09<00:00, 24.07it/s]\n",
      "               classes   top1_acc   top5_acc: 100%|██████████| 313/313 [00:15<00:00, 20.49it/s]"
     ]
    },
    {
     "name": "stdout",
     "output_type": "stream",
     "text": [
      "                   all      0.705      0.938\n"
     ]
    },
    {
     "name": "stderr",
     "output_type": "stream",
     "text": [
      "\n"
     ]
    },
    {
     "name": "stdout",
     "output_type": "stream",
     "text": [
      "\n",
      "      Epoch    GPU_mem       loss  Instances       Size\n"
     ]
    },
    {
     "name": "stderr",
     "output_type": "stream",
     "text": [
      "       4/10     0.377G      1.435         16        224: 100%|██████████| 3125/3125 [02:07<00:00, 24.44it/s]\n",
      "               classes   top1_acc   top5_acc: 100%|██████████| 313/313 [00:13<00:00, 23.79it/s]"
     ]
    },
    {
     "name": "stdout",
     "output_type": "stream",
     "text": [
      "                   all      0.726      0.941\n"
     ]
    },
    {
     "name": "stderr",
     "output_type": "stream",
     "text": [
      "\n"
     ]
    },
    {
     "name": "stdout",
     "output_type": "stream",
     "text": [
      "\n",
      "      Epoch    GPU_mem       loss  Instances       Size\n"
     ]
    },
    {
     "name": "stderr",
     "output_type": "stream",
     "text": [
      "       5/10     0.377G      1.296         16        224: 100%|██████████| 3125/3125 [02:10<00:00, 23.98it/s]\n",
      "               classes   top1_acc   top5_acc: 100%|██████████| 313/313 [00:14<00:00, 21.79it/s]"
     ]
    },
    {
     "name": "stdout",
     "output_type": "stream",
     "text": [
      "                   all       0.74      0.948\n"
     ]
    },
    {
     "name": "stderr",
     "output_type": "stream",
     "text": [
      "\n"
     ]
    },
    {
     "name": "stdout",
     "output_type": "stream",
     "text": [
      "\n",
      "      Epoch    GPU_mem       loss  Instances       Size\n"
     ]
    },
    {
     "name": "stderr",
     "output_type": "stream",
     "text": [
      "       6/10     0.377G        1.2         16        224: 100%|██████████| 3125/3125 [02:11<00:00, 23.73it/s]\n",
      "               classes   top1_acc   top5_acc: 100%|██████████| 313/313 [00:13<00:00, 22.41it/s]"
     ]
    },
    {
     "name": "stdout",
     "output_type": "stream",
     "text": [
      "                   all      0.754      0.951\n"
     ]
    },
    {
     "name": "stderr",
     "output_type": "stream",
     "text": [
      "\n"
     ]
    },
    {
     "name": "stdout",
     "output_type": "stream",
     "text": [
      "\n",
      "      Epoch    GPU_mem       loss  Instances       Size\n"
     ]
    },
    {
     "name": "stderr",
     "output_type": "stream",
     "text": [
      "       7/10     0.377G      1.106         16        224: 100%|██████████| 3125/3125 [02:38<00:00, 19.74it/s]\n",
      "               classes   top1_acc   top5_acc: 100%|██████████| 313/313 [00:17<00:00, 17.68it/s]"
     ]
    },
    {
     "name": "stdout",
     "output_type": "stream",
     "text": [
      "                   all      0.767      0.957\n"
     ]
    },
    {
     "name": "stderr",
     "output_type": "stream",
     "text": [
      "\n"
     ]
    },
    {
     "name": "stdout",
     "output_type": "stream",
     "text": [
      "\n",
      "      Epoch    GPU_mem       loss  Instances       Size\n"
     ]
    },
    {
     "name": "stderr",
     "output_type": "stream",
     "text": [
      "       8/10     0.377G       1.04         16        224: 100%|██████████| 3125/3125 [02:16<00:00, 22.96it/s]\n",
      "               classes   top1_acc   top5_acc: 100%|██████████| 313/313 [00:14<00:00, 21.49it/s]"
     ]
    },
    {
     "name": "stdout",
     "output_type": "stream",
     "text": [
      "                   all      0.771      0.956\n"
     ]
    },
    {
     "name": "stderr",
     "output_type": "stream",
     "text": [
      "\n"
     ]
    },
    {
     "name": "stdout",
     "output_type": "stream",
     "text": [
      "\n",
      "      Epoch    GPU_mem       loss  Instances       Size\n"
     ]
    },
    {
     "name": "stderr",
     "output_type": "stream",
     "text": [
      "       9/10     0.377G     0.9769         16        224: 100%|██████████| 3125/3125 [02:16<00:00, 22.92it/s]\n",
      "               classes   top1_acc   top5_acc: 100%|██████████| 313/313 [00:16<00:00, 19.34it/s]"
     ]
    },
    {
     "name": "stdout",
     "output_type": "stream",
     "text": [
      "                   all      0.776      0.961\n"
     ]
    },
    {
     "name": "stderr",
     "output_type": "stream",
     "text": [
      "\n"
     ]
    },
    {
     "name": "stdout",
     "output_type": "stream",
     "text": [
      "\n",
      "      Epoch    GPU_mem       loss  Instances       Size\n"
     ]
    },
    {
     "name": "stderr",
     "output_type": "stream",
     "text": [
      "      10/10     0.377G     0.9214         16        224: 100%|██████████| 3125/3125 [02:14<00:00, 23.26it/s]\n",
      "               classes   top1_acc   top5_acc: 100%|██████████| 313/313 [00:13<00:00, 23.36it/s]"
     ]
    },
    {
     "name": "stdout",
     "output_type": "stream",
     "text": [
      "                   all       0.78      0.961\n"
     ]
    },
    {
     "name": "stderr",
     "output_type": "stream",
     "text": [
      "\n"
     ]
    },
    {
     "name": "stdout",
     "output_type": "stream",
     "text": [
      "\n",
      "10 epochs completed in 0.426 hours.\n",
      "Optimizer stripped from /root/aifr/bottle-classification-YOLOv8/learning/ultralytics_testing/custom_classification_trainer/testing/weights/last.pt, 3.2MB\n",
      "Optimizer stripped from /root/aifr/bottle-classification-YOLOv8/learning/ultralytics_testing/custom_classification_trainer/testing/weights/best.pt, 3.2MB\n",
      "\n",
      "Validating /root/aifr/bottle-classification-YOLOv8/learning/ultralytics_testing/custom_classification_trainer/testing/weights/best.pt...\n",
      "Ultralytics YOLOv8.2.6 🚀 Python-3.8.10 torch-2.3.0+cu121 CUDA:0 (NVIDIA GeForce RTX 2070 SUPER, 8192MiB)\n",
      "YOLOv8n-cls summary (fused): 73 layers, 1562980 parameters, 0 gradients, 3.4 GFLOPs\n",
      "WARNING ⚠️ Dataset 'split=val' not found, using 'split=test' instead.\n",
      "\u001b[34m\u001b[1mtrain:\u001b[0m /root/aifr/bottle-classification-YOLOv8/src/datasets/cifar100/train... found 50000 images in 100 classes ✅ \n",
      "\u001b[34m\u001b[1mval:\u001b[0m None...\n",
      "\u001b[34m\u001b[1mtest:\u001b[0m /root/aifr/bottle-classification-YOLOv8/src/datasets/cifar100/test... found 10000 images in 100 classes ✅ \n"
     ]
    },
    {
     "name": "stderr",
     "output_type": "stream",
     "text": [
      "               classes   top1_acc   top5_acc: 100%|██████████| 313/313 [00:13<00:00, 22.46it/s]\n"
     ]
    },
    {
     "name": "stdout",
     "output_type": "stream",
     "text": [
      "                   all       0.78      0.961\n",
      "Speed: 0.1ms preprocess, 0.3ms inference, 0.0ms loss, 0.0ms postprocess per image\n",
      "Results saved to \u001b[1m/root/aifr/bottle-classification-YOLOv8/learning/ultralytics_testing/custom_classification_trainer/testing\u001b[0m\n",
      "Results saved to \u001b[1m/root/aifr/bottle-classification-YOLOv8/learning/ultralytics_testing/custom_classification_trainer/testing\u001b[0m\n"
     ]
    }
   ],
   "source": [
    "from ultralytics.models.yolo.classify import ClassificationTrainer\n",
    "\n",
    "# Define training arguments\n",
    "args = {\n",
    "    'model': 'yolov8n-cls.pt',  # Specify your model\n",
    "    'data': 'cifar100',  # Dataset\n",
    "    'epochs': 10,  # Number of training epochs\n",
    "    # 'imgsz': 32,  # Input image size\n",
    "    'project': \"/root/aifr/bottle-classification-YOLOv8/learning/ultralytics_testing/custom_classification_trainer\",  # Project directory\n",
    "    'name': \"testing\"  # Experiment name\n",
    "}\n",
    "\n",
    "# Initialize the trainer with your arguments\n",
    "trainer = ClassificationTrainer(overrides=args)\n",
    "\n",
    "# Start training\n",
    "trainer.train()"
   ]
  }
 ],
 "metadata": {
  "kernelspec": {
   "display_name": "Python 3",
   "language": "python",
   "name": "python3"
  },
  "language_info": {
   "codemirror_mode": {
    "name": "ipython",
    "version": 3
   },
   "file_extension": ".py",
   "mimetype": "text/x-python",
   "name": "python",
   "nbconvert_exporter": "python",
   "pygments_lexer": "ipython3",
   "version": "3.8.10"
  }
 },
 "nbformat": 4,
 "nbformat_minor": 2
}
