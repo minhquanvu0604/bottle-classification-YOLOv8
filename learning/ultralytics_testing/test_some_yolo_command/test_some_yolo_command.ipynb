{
 "cells": [
  {
   "cell_type": "code",
   "execution_count": 4,
   "metadata": {
    "metadata": {}
   },
   "outputs": [],
   "source": [
    "from ultralytics import YOLO"
   ]
  },
  {
   "cell_type": "markdown",
   "metadata": {},
   "source": [
    "## Print model info"
   ]
  },
  {
   "cell_type": "code",
   "execution_count": null,
   "metadata": {},
   "outputs": [
    {
     "name": "stdout",
     "output_type": "stream",
     "text": [
      "Downloading https://github.com/ultralytics/assets/releases/download/v8.2.0/yolov8n.pt to 'yolov8n.pt'...\n"
     ]
    },
    {
     "name": "stderr",
     "output_type": "stream",
     "text": [
      "100%|██████████| 6.23M/6.23M [00:01<00:00, 4.43MB/s]\n"
     ]
    },
    {
     "name": "stdout",
     "output_type": "stream",
     "text": [
      "YOLOv8n summary: 225 layers, 3157200 parameters, 0 gradients, 8.9 GFLOPs\n"
     ]
    },
    {
     "data": {
      "text/plain": [
       "(225, 3157200, 0, 8.8575488)"
      ]
     },
     "metadata": {},
     "output_type": "display_data"
    }
   ],
   "source": [
    "model = YOLO('yolov8n.pt')\n",
    "model.info()"
   ]
  },
  {
   "cell_type": "markdown",
   "metadata": {},
   "source": [
    "## Simple Load, Train and Infer\n",
    "Typical script"
   ]
  },
  {
   "cell_type": "code",
   "execution_count": 5,
   "metadata": {
    "metadata": {}
   },
   "outputs": [],
   "source": [
    "%%script false --no-raise-error\n",
    "\n",
    "# Create a new YOLO model from scratch\n",
    "model = YOLO('yolov8n.yaml')\n",
    "\n",
    "# Load a COCO-pretrained YOLOv8n model\n",
    "model = YOLO('yolov8n.pt')\n",
    "\n",
    "\n",
    "# Display model information (optional)\n",
    "model.info()\n",
    "\n",
    "# Train the model on the COCO8 example dataset for 100 epochs\n",
    "results = model.train(data='coco8.yaml', epochs=100, imgsz=640)\n",
    "\n",
    "# Evaluate the model's performance on the validation set\n",
    "results = model.val()\n",
    "\n",
    "# Run inference with the YOLOv8n model on the 'bus.jpg' image\n",
    "results = model('path/to/bus.jpg')\n",
    "\n",
    "# Export the model to ONNX format\n",
    "success = model.export(format='onnx', dynamic=True)"
   ]
  },
  {
   "cell_type": "markdown",
   "metadata": {},
   "source": [
    "## Inference\n",
    "### Predict"
   ]
  },
  {
   "cell_type": "code",
   "execution_count": 7,
   "metadata": {
    "metadata": {}
   },
   "outputs": [],
   "source": [
    "%%script false --no-raise-error\n",
    "\n",
    "from ultralytics import YOLO\n",
    "from PIL import Image\n",
    "import cv2\n",
    "\n",
    "model = YOLO(\"model.pt\")\n",
    "# accepts all formats - image/dir/Path/URL/video/PIL/ndarray. 0 for webcam\n",
    "results = model.predict(source=\"0\")\n",
    "results = model.predict(source=\"folder\", show=True) # Display preds. Accepts all YOLO predict arguments\n",
    "\n",
    "# from PIL\n",
    "im1 = Image.open(\"bus.jpg\")\n",
    "results = model.predict(source=im1, save=True)  # save plotted images\n",
    "\n",
    "# from ndarray\n",
    "im2 = cv2.imread(\"bus.jpg\")\n",
    "results = model.predict(source=im2, save=True, save_txt=True)  # save predictions as labels\n",
    "\n",
    "# from list of PIL/ndarray\n",
    "results = model.predict(source=[im1, im2])"
   ]
  },
  {
   "cell_type": "code",
   "execution_count": null,
   "metadata": {},
   "outputs": [],
   "source": [
    "%%script false --no-raise-error\n",
    "\n",
    "from ultralytics import YOLO\n",
    "\n",
    "# Load a model\n",
    "model = YOLO('yolov8n.pt')  # pretrained YOLOv8n model\n",
    "\n",
    "# Run batched inference on a list of images\n",
    "results = model(['im1.jpg', 'im2.jpg'])  # return a list of Results objects\n",
    "\n",
    "# Process results list\n",
    "for result in results:\n",
    "    boxes = result.boxes  # Boxes object for bounding box outputs\n",
    "    masks = result.masks  # Masks object for segmentation masks outputs\n",
    "    keypoints = result.keypoints  # Keypoints object for pose outputs\n",
    "    probs = result.probs  # Probs object for classification outputs\n",
    "    obb = result.obb  # Oriented boxes object for OBB outputs\n",
    "    result.show()  # display to screen\n",
    "    result.save(filename='result.jpg')  # save to disk"
   ]
  },
  {
   "cell_type": "markdown",
   "metadata": {},
   "source": [
    "## Exploring YOLO Repository"
   ]
  },
  {
   "cell_type": "markdown",
   "metadata": {},
   "source": [
    "### yaml\n",
    "Typical yaml file"
   ]
  },
  {
   "cell_type": "raw",
   "metadata": {},
   "source": [
    "# Model Configuration\n",
    "nc: 80  # number of classes\n",
    "depth_multiple: 0.33  # model depth multiple\n",
    "width_multiple: 0.50  # layer channel multiple\n",
    "\n",
    "# Backbone\n",
    "backbone:\n",
    "  # [from, number, module, args]\n",
    "  [[-1, 1, Focus, [64, 3]],  # Focus layer from yolov5\n",
    "   [-1, 1, Conv, [128, 3, 2]],\n",
    "   ...\n",
    "  ]\n",
    "\n",
    "# Head\n",
    "head:\n",
    "  [[-1, 3, BottleneckCSP, [1024, False]],\n",
    "   ...\n",
    "  ]\n",
    "\n",
    "# Hyperparameters\n",
    "lr0: 0.01  # initial learning rate\n",
    "lrf: 0.2   # final learning rate\n",
    "momentum: 0.937\n",
    "weight_decay: 0.0005\n",
    "warmup_epochs: 3\n",
    "warmup_momentum: 0.8\n",
    "warmup_bias_lr: 0.1\n",
    "\n",
    "# Augmentation\n",
    "# These are some example augmentations; actual keys depend on the YOLO version and training script.\n",
    "mosaic: True\n",
    "mixup: True\n",
    "copy_paste: True"
   ]
  },
  {
   "cell_type": "markdown",
   "metadata": {},
   "source": [
    "### ultralytics/ultralytics/models/yolo/classify/train.py"
   ]
  },
  {
   "cell_type": "code",
   "execution_count": 1,
   "metadata": {},
   "outputs": [],
   "source": [
    "%%script false --no-raise-error\n",
    "\n",
    "from ultralytics.engine.trainer import BaseTrainer\n",
    "...\n",
    "\n",
    "class ClassificationTrainer(BaseTrainer):\n",
    "    \"\"\"\n",
    "    A class extending the BaseTrainer class for training based on a classification model.\n",
    "\n",
    "    Notes:\n",
    "        - Torchvision classification models can also be passed to the 'model' argument, i.e. model='resnet18'.\n",
    "\n",
    "    Example:\n",
    "        ```python\n",
    "        from ultralytics.models.yolo.classify import ClassificationTrainer\n",
    "\n",
    "        args = dict(model='yolov8n-cls.pt', data='imagenet10', epochs=3)\n",
    "        trainer = ClassificationTrainer(overrides=args)\n",
    "        trainer.train()\n",
    "        ```\n",
    "    \"\"\"\n",
    "    ..."
   ]
  },
  {
   "cell_type": "markdown",
   "metadata": {},
   "source": [
    "### Callbacks\n",
    "#### Returning additional information with Prediction\n",
    "\n",
    "In this example, we want to return the original frame with each result object. Here's how we can do that\n",
    "\n"
   ]
  },
  {
   "cell_type": "code",
   "execution_count": null,
   "metadata": {},
   "outputs": [],
   "source": [
    "%%script false --no-raise-error\n",
    "\n",
    "from ultralytics import YOLO\n",
    "\n",
    "\n",
    "def on_predict_batch_end(predictor):\n",
    "    \"\"\"Handle prediction batch end by combining results with corresponding frames; modifies predictor results.\"\"\"\n",
    "    _, image, _, _ = predictor.batch\n",
    "\n",
    "    # Ensure that image is a list\n",
    "    image = image if isinstance(image, list) else [image]\n",
    "\n",
    "    # Combine the prediction results with the corresponding frames\n",
    "    predictor.results = zip(predictor.results, image)\n",
    "\n",
    "\n",
    "# Create a YOLO model instance\n",
    "model = YOLO(f'yolov8n.pt')\n",
    "\n",
    "# Add the custom callback to the model\n",
    "model.add_callback(\"on_predict_batch_end\", on_predict_batch_end)\n",
    "\n",
    "# Iterate through the results and frames\n",
    "for (result, frame) in model.predict():  # or model.track()\n",
    "    pass"
   ]
  }
 ],
 "metadata": {
  "kernelspec": {
   "display_name": "Python 3",
   "language": "python",
   "name": "python3"
  },
  "language_info": {
   "codemirror_mode": {
    "name": "ipython",
    "version": 3
   },
   "file_extension": ".py",
   "mimetype": "text/x-python",
   "name": "python",
   "nbconvert_exporter": "python",
   "pygments_lexer": "ipython3",
   "version": "3.8.10"
  }
 },
 "nbformat": 4,
 "nbformat_minor": 2
}
